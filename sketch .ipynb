{
 "cells": [
  {
   "cell_type": "code",
   "execution_count": 17,
   "id": "c3f0a1d5",
   "metadata": {
    "scrolled": true
   },
   "outputs": [],
   "source": [
    "#!pip install opencv"
   ]
  },
  {
   "cell_type": "code",
   "execution_count": 8,
   "id": "bbdaad25",
   "metadata": {
    "scrolled": true
   },
   "outputs": [],
   "source": [
    "import cv2"
   ]
  },
  {
   "cell_type": "code",
   "execution_count": 17,
   "id": "37da5597",
   "metadata": {},
   "outputs": [
    {
     "data": {
      "text/plain": [
       "-1"
      ]
     },
     "execution_count": 17,
     "metadata": {},
     "output_type": "execute_result"
    }
   ],
   "source": [
    "image = cv2.imread(\"angry-parrot.jpg\")\n",
    "cv2.imshow(\"parrot\", image)\n",
    "cv2.waitKey(0)\n",
    "gray_image = cv2.cvtColor(image, cv2.COLOR_BGR2GRAY)\n",
    "cv2.imshow(\"New parrot\", gray_image)\n",
    "cv2.waitKey(0)\n",
    "inverted_image = 255 - gray_image\n",
    "cv2.imshow(\"Inverted\", inverted_image)\n",
    "cv2.waitKey()\n",
    "blurred = cv2.GaussianBlur(inverted_image, (21, 21), 0)\n",
    "inverted_blurred = 255 - blurred\n",
    "pencil_sketch = cv2.divide(gray_image, inverted_blurred, scale=256.0)\n",
    "cv2.imshow(\"Sketch\", pencil_sketch)\n",
    "cv2.waitKey(0)\n",
    "cv2.imshow(\"original image\", image)\n",
    "cv2.imshow(\"pencil sketch\", pencil_sketch)\n",
    "cv2.waitKey(0)"
   ]
  },
  {
   "cell_type": "code",
   "execution_count": 15,
   "id": "67cb6050",
   "metadata": {},
   "outputs": [
    {
     "data": {
      "text/plain": [
       "-1"
      ]
     },
     "execution_count": 15,
     "metadata": {},
     "output_type": "execute_result"
    }
   ],
   "source": [
    "image = cv2.imread(\"boy.jpg\")\n",
    "cv2.imshow(\"boy\", image)\n",
    "cv2.waitKey(0)\n",
    "gray_image = cv2.cvtColor(image, cv2.COLOR_BGR2GRAY)\n",
    "cv2.imshow(\"New boy\", gray_image)\n",
    "cv2.waitKey(0)\n",
    "inverted_image = 255 - gray_image\n",
    "cv2.imshow(\"Inverted\", inverted_image)\n",
    "cv2.waitKey()\n",
    "blurred = cv2.GaussianBlur(inverted_image, (21, 21), 0)\n",
    "inverted_blurred = 255 - blurred\n",
    "pencil_sketch = cv2.divide(gray_image, inverted_blurred, scale=256.0)\n",
    "cv2.imshow(\"Sketch\", pencil_sketch)\n",
    "cv2.waitKey(0)\n",
    "cv2.imshow(\"original image\", image)\n",
    "cv2.imshow(\"pencil sketch\", pencil_sketch)\n",
    "cv2.waitKey(0)"
   ]
  },
  {
   "cell_type": "code",
   "execution_count": 7,
   "id": "e9a533ee",
   "metadata": {},
   "outputs": [],
   "source": [
    "import cv2\n",
    "\n",
    "def pencil_sketch(image_path):\n",
    "    # Load the image\n",
    "    image = cv2.imread(image_path)\n",
    "    \n",
    "    # Convert the image to grayscale\n",
    "    gray_image = cv2.cvtColor(image, cv2.COLOR_BGR2GRAY)\n",
    "    \n",
    "    # Invert the grayscale image\n",
    "    inverted_image = cv2.bitwise_not(gray_image)\n",
    "    \n",
    "    # Blur the inverted image using the Gaussian blur\n",
    "    blurred_image = cv2.GaussianBlur(inverted_image, (111, 111), 0)\n",
    "    \n",
    "    # Invert the blurred image\n",
    "    inverted_blurred = cv2.bitwise_not(blurred_image)\n",
    "    \n",
    "    # Create the pencil sketch effect by dividing the grayscale image by the inverted blurred image\n",
    "    pencil_sketch = cv2.divide(gray_image, inverted_blurred, scale=256.0)\n",
    "    \n",
    "    return pencil_sketch\n",
    "\n",
    "# Provide the path to your input image\n",
    "input_image_path = \"D:\\datascience\\letsgrow\\pencil sketch\\dog.jpg\"\n",
    "\n",
    "# Generate the pencil sketch\n",
    "sketch = pencil_sketch(input_image_path)\n",
    "\n",
    "# Display the original image and the pencil sketch\n",
    "cv2.imshow(\"Original Image\", cv2.imread(input_image_path))\n",
    "cv2.imshow(\"Pencil Sketch\", sketch)\n",
    "cv2.waitKey(0)\n",
    "cv2.destroyAllWindows()\n"
   ]
  },
  {
   "cell_type": "raw",
   "id": "ff33a176",
   "metadata": {},
   "source": [
    "The pencil_sketch function takes an image_path as input. It performs the following operations:\n",
    "\n",
    "cv2.imread(image_path): This function reads the image from the specified image_path and returns a NumPy array representing the image.\n",
    "\n",
    "cv2.cvtColor(image, cv2.COLOR_BGR2GRAY): This function converts the input color image (loaded using cv2.imread) to grayscale. It uses the COLOR_BGR2GRAY flag to specify the conversion from BGR (Blue, Green, Red) color space to grayscale.\n",
    "\n",
    "cv2.bitwise_not(gray_image): This function performs bitwise inversion on the grayscale image, resulting in an inverted grayscale image. It reverses the pixel intensities, making dark areas lighter and light areas darker.\n",
    "\n",
    "cv2.GaussianBlur(inverted_image, (111, 111), 0): This function applies a Gaussian blur to the inverted grayscale image. It smoothes out the image, reducing noise and details. The (111, 111) parameter specifies the kernel size, and 0 indicates that the standard deviation of the Gaussian kernel will be calculated automatically based on the kernel size.\n",
    "\n",
    "cv2.bitwise_not(blurred_image): This function performs bitwise inversion on the blurred image, creating an inverted blurred image.\n",
    "\n",
    "cv2.divide(gray_image, inverted_blurred, scale=256.0): This function divides the grayscale image by the inverted blurred image. It creates the pencil sketch effect by enhancing the edges and details in the image.\n",
    "    The pencil_sketch function is called with the input image path to generate the pencil sketch.\n",
    "\n",
    "cv2.imshow is used to display the original image and the pencil sketch. cv2.imread(input_image_path) reads the original image again to display it. cv2.imshow takes two arguments: the window name and the image to be displayed.\n",
    "\n",
    "cv2.waitKey(0) waits for a key press to close the displayed images. Finally, cv2.destroyAllWindows() closes all the windows created by OpenCV."
   ]
  }
 ],
 "metadata": {
  "kernelspec": {
   "display_name": "Python 3 (ipykernel)",
   "language": "python",
   "name": "python3"
  },
  "language_info": {
   "codemirror_mode": {
    "name": "ipython",
    "version": 3
   },
   "file_extension": ".py",
   "mimetype": "text/x-python",
   "name": "python",
   "nbconvert_exporter": "python",
   "pygments_lexer": "ipython3",
   "version": "3.9.13"
  }
 },
 "nbformat": 4,
 "nbformat_minor": 5
}
