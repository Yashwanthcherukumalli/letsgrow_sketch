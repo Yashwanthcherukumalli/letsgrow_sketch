{
 "cells": [
  {
   "cell_type": "code",
   "execution_count": null,
   "id": "789741d8",
   "metadata": {},
   "outputs": [],
   "source": [
    "#explaining the code"
   ]
  },
  {
   "cell_type": "raw",
   "id": "d80c19d1",
   "metadata": {},
   "source": [
    "Import the OpenCV library: Begin by importing the OpenCV library in Python using the import cv2 statement. OpenCV provides various functions and utilities for image processing.\n",
    "\n",
    "Read the image: Use the cv2.imread() function to read the input image. Specify the file path or name of the image you want to convert into a pencil sketch. OpenCV reads the image in BGR format by default.\n",
    "\n",
    "Convert the image to grayscale: Convert the image from the BGR color space to grayscale using the cv2.cvtColor() function. This step is necessary because the pencil sketch effect is typically represented in black and white.\n",
    "\n",
    "Invert the grayscale image: Invert the grayscale image by subtracting each pixel value from 255. This step helps to enhance the details and create a negative image that resembles a pencil sketch.\n",
    "\n",
    "Apply Gaussian blur: Apply a Gaussian blur to the inverted grayscale image using the cv2.GaussianBlur() function. Gaussian blur helps to smoothen the image and reduce noise, which is essential for achieving a realistic pencil sketch effect.\n",
    "\n",
    "Invert the blurred image: Similar to step 4, invert the blurred image by subtracting each pixel value from 255. This step prepares the image for the final step of creating the pencil sketch effect.\n",
    "\n",
    "Create the pencil sketch: Finally, create the pencil sketch effect by dividing the grayscale image by the inverted blurred image using the cv2.divide() function. Adjust the scale parameter to control the intensity of the sketch effect.\n",
    "\n",
    "Display the images (optional): If you want to view the original image and the pencil sketch side by side, you can use the cv2.imshow() function to display the images. This step is useful for visualizing the transformation and comparing the original and sketched versions."
   ]
  },
  {
   "cell_type": "code",
   "execution_count": null,
   "id": "6258f0b3",
   "metadata": {},
   "outputs": [],
   "source": [
    "#implementing the code"
   ]
  },
  {
   "cell_type": "raw",
   "id": "e087eefe",
   "metadata": {},
   "source": [
    "The only library we need for converting an image into a pencil sketch with Python is an OpenCV library in Python. It can be used by using the pip command; pip install opencv-python. But it is not imported by the same name. Let’s import it to get started with the task:"
   ]
  },
  {
   "cell_type": "code",
   "execution_count": 1,
   "id": "5831b4b8",
   "metadata": {},
   "outputs": [],
   "source": [
    "import cv2"
   ]
  },
  {
   "cell_type": "raw",
   "id": "e89b1e54",
   "metadata": {},
   "source": [
    "I will not display the image at every step, if you want to display the image at every step to see the changes in the image then you need to use two commands; cv2.imshow(“Title You want to give”, Image) and then simply write cv2.waitKey(0). This will display the image.\n",
    "\n",
    "Now the next thing to do is to read the image:"
   ]
  },
  {
   "cell_type": "code",
   "execution_count": 2,
   "id": "14943dee",
   "metadata": {},
   "outputs": [
    {
     "data": {
      "text/plain": [
       "-1"
      ]
     },
     "execution_count": 2,
     "metadata": {},
     "output_type": "execute_result"
    }
   ],
   "source": [
    "image = cv2.imread(\"dog.jpg\")\n",
    "cv2.imshow(\"Dog\", image)\n",
    "cv2.waitKey(0)"
   ]
  },
  {
   "cell_type": "raw",
   "id": "863012b8",
   "metadata": {},
   "source": [
    "Now after reading the image, we will create a new image by converting the original image to greyscale:"
   ]
  },
  {
   "cell_type": "code",
   "execution_count": 3,
   "id": "33bf8b6f",
   "metadata": {},
   "outputs": [
    {
     "data": {
      "text/plain": [
       "-1"
      ]
     },
     "execution_count": 3,
     "metadata": {},
     "output_type": "execute_result"
    }
   ],
   "source": [
    "gray_image = cv2.cvtColor(image, cv2.COLOR_BGR2GRAY)\n",
    "cv2.imshow(\"New Dog\", gray_image)\n",
    "cv2.waitKey(0)"
   ]
  },
  {
   "cell_type": "raw",
   "id": "3c635946",
   "metadata": {},
   "source": [
    "Now the next step is to invert the new grayscale image:"
   ]
  },
  {
   "cell_type": "code",
   "execution_count": 4,
   "id": "eca23852",
   "metadata": {},
   "outputs": [
    {
     "data": {
      "text/plain": [
       "-1"
      ]
     },
     "execution_count": 4,
     "metadata": {},
     "output_type": "execute_result"
    }
   ],
   "source": [
    "inverted_image = 255 - gray_image\n",
    "cv2.imshow(\"Inverted\", inverted_image)\n",
    "cv2.waitKey()"
   ]
  },
  {
   "cell_type": "raw",
   "id": "88223112",
   "metadata": {},
   "source": [
    "Now the next step in the process is to blur the image by using the Gaussian Function in OpenCV:"
   ]
  },
  {
   "cell_type": "code",
   "execution_count": 5,
   "id": "8ae064d0",
   "metadata": {},
   "outputs": [],
   "source": [
    "blurred = cv2.GaussianBlur(inverted_image, (21, 21), 0)"
   ]
  },
  {
   "cell_type": "raw",
   "id": "f7c881b5",
   "metadata": {},
   "source": [
    "Then the final step is to invert the blurred image, then we can easily convert the image into a pencil sketch:"
   ]
  },
  {
   "cell_type": "code",
   "execution_count": 7,
   "id": "cb19da42",
   "metadata": {},
   "outputs": [
    {
     "data": {
      "text/plain": [
       "-1"
      ]
     },
     "execution_count": 7,
     "metadata": {},
     "output_type": "execute_result"
    }
   ],
   "source": [
    "inverted_blurred = 255 - blurred\n",
    "pencil_sketch = cv2.divide(gray_image, inverted_blurred, scale=256.0)\n",
    "cv2.imshow(\"Sketch\", pencil_sketch)\n",
    "cv2.waitKey(0)"
   ]
  },
  {
   "cell_type": "raw",
   "id": "4deb0a32",
   "metadata": {},
   "source": [
    "And finally, if you want to have a look at both the original image and the pencil sketch then you can use the following commands:"
   ]
  },
  {
   "cell_type": "code",
   "execution_count": 8,
   "id": "a700ad1d",
   "metadata": {},
   "outputs": [
    {
     "data": {
      "text/plain": [
       "-1"
      ]
     },
     "execution_count": 8,
     "metadata": {},
     "output_type": "execute_result"
    }
   ],
   "source": [
    "cv2.imshow(\"original image\", image)\n",
    "cv2.imshow(\"pencil sketch\", pencil_sketch)\n",
    "cv2.waitKey(0)"
   ]
  },
  {
   "cell_type": "raw",
   "id": "d4fb54e3",
   "metadata": {},
   "source": [
    "So this is how we can convert an image into a pencil sketch with Python. I hope you liked this article on how to convert an image into a pencil sketch with Python. Feel free to ask your valuable questions in the comments section below."
   ]
  },
  {
   "cell_type": "code",
   "execution_count": null,
   "id": "1e8a67e0",
   "metadata": {},
   "outputs": [],
   "source": []
  }
 ],
 "metadata": {
  "kernelspec": {
   "display_name": "Python 3 (ipykernel)",
   "language": "python",
   "name": "python3"
  },
  "language_info": {
   "codemirror_mode": {
    "name": "ipython",
    "version": 3
   },
   "file_extension": ".py",
   "mimetype": "text/x-python",
   "name": "python",
   "nbconvert_exporter": "python",
   "pygments_lexer": "ipython3",
   "version": "3.9.13"
  }
 },
 "nbformat": 4,
 "nbformat_minor": 5
}
